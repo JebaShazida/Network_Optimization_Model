{
  "nbformat": 4,
  "nbformat_minor": 0,
  "metadata": {
    "colab": {
      "provenance": [],
      "authorship_tag": "ABX9TyM4yCPpC1s9oVHu5LmZTLAZ",
      "include_colab_link": true
    },
    "kernelspec": {
      "name": "python3",
      "display_name": "Python 3"
    },
    "language_info": {
      "name": "python"
    }
  },
  "cells": [
    {
      "cell_type": "markdown",
      "metadata": {
        "id": "view-in-github",
        "colab_type": "text"
      },
      "source": [
        "<a href=\"https://colab.research.google.com/github/JebaShazida/Network_Optimization_Model/blob/main/optimum_model_1.ipynb\" target=\"_parent\"><img src=\"https://colab.research.google.com/assets/colab-badge.svg\" alt=\"Open In Colab\"/></a>"
      ]
    },
    {
      "cell_type": "code",
      "source": [
        "!pip install pulp\n",
        "import pulp\n",
        "regions = ['North America', 'South America', 'Europe', 'Asia', 'Africa']\n",
        "demand = {'North America': 12, 'South America': 8, 'Europe': 14, 'Asia': 16, 'Africa': 7}\n",
        "plants = ['Plant 1', 'Plant 2', 'Plant 3', 'Plant 4', 'Plant 5']\n",
        "capacities = {'Plant 1': {'low': 10, 'high': 20},\n",
        "              'Plant 2': {'low': 10, 'high': 20},\n",
        "              'Plant 3': {'low': 10, 'high': 20},\n",
        "              'Plant 4': {'low': 10, 'high': 20},\n",
        "              'Plant 5': {'low': 10, 'high': 20}}\n",
        "fixed_costs = {'Plant 1': {'low': 6000, 'high': 9000},\n",
        "               'Plant 2': {'low': 4500, 'high': 6750},\n",
        "               'Plant 3': {'low': 6500, 'high': 9750},\n",
        "               'Plant 4': {'low': 4100, 'high': 6150},\n",
        "               'Plant 5': {'low': 4000, 'high': 6000}}\n",
        "transportation_costs = {\n",
        "    ('North America', 'Plant 1'): 81,\n",
        "    ('North America', 'Plant 2'): 117,\n",
        "    ('North America', 'Plant 3'): 102,\n",
        "    ('North America', 'Plant 4'): 115,\n",
        "    ('North America', 'Plant 5'): 142,\n",
        "    ('South America', 'Plant 1'): 92,\n",
        "    ('South America', 'Plant 2'): 77,\n",
        "    ('South America', 'Plant 3'): 105,\n",
        "    ('South America', 'Plant 4'): 125,\n",
        "    ('South America', 'Plant 5'): 100,\n",
        "    ('Europe', 'Plant 1'): 101,\n",
        "    ('Europe', 'Plant 2'): 108,\n",
        "    ('Europe', 'Plant 3'): 95,\n",
        "    ('Europe', 'Plant 4'): 90,\n",
        "    ('Europe', 'Plant 5'): 103,\n",
        "    ('Asia', 'Plant 1'): 130,\n",
        "    ('Asia', 'Plant 2'): 98,\n",
        "    ('Asia', 'Plant 3'): 119,\n",
        "    ('Asia', 'Plant 4'): 59,\n",
        "    ('Asia', 'Plant 5'): 105,\n",
        "    ('Africa', 'Plant 1'): 115,\n",
        "    ('Africa', 'Plant 2'): 100,\n",
        "    ('Africa', 'Plant 3'): 111,\n",
        "    ('Africa', 'Plant 4'): 74,\n",
        "    ('Africa', 'Plant 5'): 71,\n",
        "\n",
        "}\n",
        "model = pulp.LpProblem(\"Capacitated Plant Location Model\", pulp.LpMinimize)\n",
        "open_plant = pulp.LpVariable.dicts(\"Open\", plants, cat=pulp.LpBinary)\n",
        "transport = pulp.LpVariable.dicts(\"Transport\", [(r, p) for r in regions for p in plants], lowBound=0, cat=pulp.LpContinuous)\n",
        "model += pulp.lpSum(transportation_costs[(r, p)] * transport[(r, p)] for r in regions for p in plants) + \\\n",
        "         pulp.lpSum(fixed_costs[p][c] * open_plant[p] for p in plants for c in capacities[p])\n",
        "for r in regions:\n",
        "    model += pulp.lpSum(transport[(r, p)] for p in plants) == demand[r]\n",
        "for p in plants:\n",
        "    model += pulp.lpSum(transport[(r, p)] for r in regions) <= open_plant[p] * capacities[p]['low']\n",
        "    model += pulp.lpSum(transport[(r, p)] for r in regions) <= (1 - open_plant[p]) * capacities[p]['high']\n",
        "model.solve()\n",
        "optimal_cost = pulp.value(model.objective)\n",
        "print(\"Optimal cost:\", optimal_cost)\n",
        "print(\"Optimal solution:\")\n",
        "for p in plants:\n",
        "    if pulp.value(open_plant[p]) > 0:\n",
        "        print(f\"{p} is open with capacity {capacities[p]['low']}\")\n",
        "        for r in regions:\n",
        "            amount = pulp.value(transport[(r, p)])\n",
        "            if amount > 0:\n",
        "                print(f\"   - {amount} units to {r}\")\n"
      ],
      "metadata": {
        "colab": {
          "base_uri": "https://localhost:8080/"
        },
        "id": "EKae0Sooe_5i",
        "outputId": "fb2fcf5f-48f2-467d-9112-0306637b6c17"
      },
      "execution_count": null,
      "outputs": [
        {
          "output_type": "stream",
          "name": "stdout",
          "text": [
            "Requirement already satisfied: pulp in /usr/local/lib/python3.10/dist-packages (2.8.0)\n",
            "Optimal cost: 82516.00068180001\n",
            "Optimal solution:\n",
            "Plant 1 is open with capacity 10\n",
            "   - 12.0 units to North America\n",
            "Plant 2 is open with capacity 10\n",
            "   - 8.0 units to South America\n",
            "Plant 3 is open with capacity 10\n",
            "   - 23.666667 units to Europe\n",
            "Plant 4 is open with capacity 10\n",
            "   - 6.6666667 units to Asia\n",
            "Plant 5 is open with capacity 10\n",
            "   - 10.666667 units to Asia\n",
            "   - 7.0 units to Africa\n"
          ]
        }
      ]
    }
  ]
}